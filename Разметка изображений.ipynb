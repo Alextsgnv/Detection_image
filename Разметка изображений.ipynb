{
 "cells": [
  {
   "cell_type": "markdown",
   "metadata": {},
   "source": [
    "# Подготовка изображеий для детектирования"
   ]
  },
  {
   "cell_type": "markdown",
   "metadata": {},
   "source": [
    "## Установка и импорт необходимых библиотек"
   ]
  },
  {
   "cell_type": "code",
   "execution_count": 27,
   "metadata": {},
   "outputs": [
    {
     "name": "stdout",
     "output_type": "stream",
     "text": [
      "Requirement already satisfied: opencv-python in c:\\users\\alexa\\.conda\\envs\\cv\\lib\\site-packages (4.5.5.64)\n",
      "Requirement already satisfied: numpy>=1.14.5 in c:\\users\\alexa\\.conda\\envs\\cv\\lib\\site-packages (from opencv-python) (1.21.5)\n",
      "Collecting sklearn\n",
      "  Using cached sklearn-0.0.tar.gz (1.1 kB)\n",
      "Requirement already satisfied: scikit-learn in c:\\users\\alexa\\.conda\\envs\\cv\\lib\\site-packages\\scikit_learn-1.0.2-py3.7-win-amd64.egg (from sklearn) (1.0.2)\n",
      "Requirement already satisfied: numpy>=1.14.6 in c:\\users\\alexa\\.conda\\envs\\cv\\lib\\site-packages (from scikit-learn->sklearn) (1.21.5)\n",
      "Requirement already satisfied: scipy>=1.1.0 in c:\\users\\alexa\\.conda\\envs\\cv\\lib\\site-packages (from scikit-learn->sklearn) (1.7.3)\n",
      "Requirement already satisfied: joblib>=0.11 in c:\\users\\alexa\\.conda\\envs\\cv\\lib\\site-packages\\joblib-1.1.0-py3.7.egg (from scikit-learn->sklearn) (1.1.0)\n",
      "Requirement already satisfied: threadpoolctl>=2.0.0 in c:\\users\\alexa\\.conda\\envs\\cv\\lib\\site-packages\\threadpoolctl-3.1.0-py3.7.egg (from scikit-learn->sklearn) (3.1.0)\n",
      "Building wheels for collected packages: sklearn\n",
      "  Building wheel for sklearn (setup.py): started\n",
      "  Building wheel for sklearn (setup.py): finished with status 'done'\n",
      "  Created wheel for sklearn: filename=sklearn-0.0-py2.py3-none-any.whl size=1310 sha256=859deb9c47e217294cbce5bce74a26aae5c5034cda401087331ce2d060643d59\n",
      "  Stored in directory: c:\\users\\alexa\\appdata\\local\\pip\\cache\\wheels\\46\\ef\\c3\\157e41f5ee1372d1be90b09f74f82b10e391eaacca8f22d33e\n",
      "Successfully built sklearn\n",
      "Installing collected packages: sklearn\n",
      "Successfully installed sklearn-0.0\n"
     ]
    }
   ],
   "source": [
    "!pip install opencv-python\n",
    "!pip install sklearn"
   ]
  },
  {
   "cell_type": "code",
   "execution_count": 24,
   "metadata": {},
   "outputs": [],
   "source": [
    "# Import opencv - Для работы с изображениями\n",
    "import cv2 \n",
    "# Import uuid - Для генерации названий изображений\n",
    "import uuid\n",
    "# Import Operating System - Для работы с файловой системой\n",
    "import os\n",
    "# Import time - Для отслеживания времени\n",
    "import time\n",
    "#Import random - для разделение на тренировочную и тестовую выборки\n",
    "import numpy"
   ]
  },
  {
   "cell_type": "markdown",
   "metadata": {},
   "source": [
    "## 2. Определим классы изображений\n"
   ]
  },
  {
   "cell_type": "code",
   "execution_count": 4,
   "metadata": {},
   "outputs": [],
   "source": [
    "# Так как задача - детекция номеров автомобилей, \n",
    "#список labels будет содержать один элемент 'number'\n",
    "labels = ['number']\n",
    "number_imgs = 2"
   ]
  },
  {
   "cell_type": "markdown",
   "metadata": {},
   "source": [
    "## 3. Создадим каталоги для организации проекта"
   ]
  },
  {
   "cell_type": "code",
   "execution_count": 5,
   "metadata": {},
   "outputs": [],
   "source": [
    "IMAGES_PATH = os.path.join('Tensorflow', 'workspace', 'images', 'collectedimages')"
   ]
  },
  {
   "cell_type": "code",
   "execution_count": 6,
   "metadata": {},
   "outputs": [],
   "source": [
    "if not os.path.exists(IMAGES_PATH):\n",
    "    # При запуске проекта на unix системах\n",
    "    if os.name == 'posix':\n",
    "        !mkdir -p {IMAGES_PATH}\n",
    "    # При запуске проекта на Windows\n",
    "    if os.name == 'nt':\n",
    "         !mkdir {IMAGES_PATH}\n",
    "for label in labels:\n",
    "    path = os.path.join(IMAGES_PATH, label)\n",
    "    if not os.path.exists(path):\n",
    "        !mkdir {path}"
   ]
  },
  {
   "cell_type": "markdown",
   "metadata": {},
   "source": [
    "## 4. Изображение были скачены с интернета с использованием Google изображений и Yandex картинок"
   ]
  },
  {
   "cell_type": "markdown",
   "metadata": {},
   "source": [
    "## 5. Разметка изображений с использованием LabelImg"
   ]
  },
  {
   "cell_type": "code",
   "execution_count": 7,
   "metadata": {},
   "outputs": [
    {
     "name": "stdout",
     "output_type": "stream",
     "text": [
      "Requirement already satisfied: pyqt5 in c:\\users\\alexa\\.conda\\envs\\cv\\lib\\site-packages (5.15.6)\n",
      "Requirement already satisfied: lxml in c:\\users\\alexa\\.conda\\envs\\cv\\lib\\site-packages\\lxml-4.8.0-py3.7-win-amd64.egg (4.8.0)\n",
      "Requirement already satisfied: PyQt5-sip<13,>=12.8 in c:\\users\\alexa\\.conda\\envs\\cv\\lib\\site-packages (from pyqt5) (12.10.1)\n",
      "Requirement already satisfied: PyQt5-Qt5>=5.15.2 in c:\\users\\alexa\\.conda\\envs\\cv\\lib\\site-packages (from pyqt5) (5.15.2)\n"
     ]
    }
   ],
   "source": [
    "# установка необходимых библиотек\n",
    "!pip install --upgrade pyqt5 lxml"
   ]
  },
  {
   "cell_type": "code",
   "execution_count": 8,
   "metadata": {},
   "outputs": [],
   "source": [
    "LABELIMG_PATH = os.path.join('Tensorflow', 'labelimg')"
   ]
  },
  {
   "cell_type": "code",
   "execution_count": 13,
   "metadata": {},
   "outputs": [
    {
     "name": "stderr",
     "output_type": "stream",
     "text": [
      "Cloning into 'Tensorflow\\labelimg'...\n"
     ]
    }
   ],
   "source": [
    "# Клонируем LabelImg, если еще этого не делали\n",
    "if not os.path.exists(LABELIMG_PATH):\n",
    "    !mkdir {LABELIMG_PATH}\n",
    "    !git clone https://github.com/tzutalin/labelImg {LABELIMG_PATH}"
   ]
  },
  {
   "cell_type": "code",
   "execution_count": 15,
   "metadata": {},
   "outputs": [],
   "source": [
    "if os.name == 'posix':\n",
    "    !make qt5py3\n",
    "if os.name =='nt':\n",
    "    !cd {LABELIMG_PATH} && pyrcc5 -o libs/resources.py resources.qrc"
   ]
  },
  {
   "cell_type": "code",
   "execution_count": 18,
   "metadata": {},
   "outputs": [],
   "source": [
    "# Запуск LAbelImg\n",
    "!cd {LABELIMG_PATH} && python labelImg.py"
   ]
  },
  {
   "cell_type": "markdown",
   "metadata": {},
   "source": [
    "## 6. Разделение данных на тренировачную и тестовую выборку"
   ]
  },
  {
   "cell_type": "code",
   "execution_count": 28,
   "metadata": {},
   "outputs": [],
   "source": [
    "from sklearn.model_selection import train_test_split"
   ]
  },
  {
   "cell_type": "code",
   "execution_count": null,
   "metadata": {},
   "outputs": [],
   "source": [
    "path = os.path.join(IMAGES_PATH, label)\n",
    "PATH_TRAIN = os.path.join(path,\"train\")\n",
    "PATH_TEST = os.path.join(path,\"test\")\n",
    "list_files = []\n",
    "for file in os.listdir(path):\n",
    "    if \".jpg\" in file:\n",
    "        sample = (file,file[:-3]+\"xml\")\n",
    "        list_files.append(sample)\n",
    "x_train, x_test = train_test_split(list_files, test_size=0.2, random_state=11)\n",
    "for image, xml in x_train:\n",
    "    if os.name == \"posix\":\n",
    "        if not os.path.exists(PATH_TRAIN):\n",
    "            !mkdir {PATH_TRAIN}\n",
    "        !mv {os.path.join(path,image)} {os.path.join(PATH_TRAIN,image)}\n",
    "        !mv {os.path.join(path,xml)} {os.path.join(PATH_TRAIN,xml)}\n",
    "    if os.name == \"nt\":\n",
    "        if not os.path.exists(PATH_TRAIN):\n",
    "            !mkdir {PATH_TRAIN}\n",
    "        !move {os.path.join(path,image)} {os.path.join(PATH_TRAIN,image)}\n",
    "        !move {os.path.join(path,xml)} {os.path.join(PATH_TRAIN,xml)}\n",
    "for image, xml in x_test:\n",
    "    if os.name == \"posix\":\n",
    "        if not os.path.exists(PATH_TEST):\n",
    "            !mkdir {PATH_TEST}\n",
    "        !mv {os.path.join(path,image)} {os.path.join(PATH_TEST,image)}\n",
    "        !mv {os.path.join(path,xml)} {os.path.join(PATH_TEST,xml)}\n",
    "    if os.name == \"nt\":\n",
    "        if not os.path.exists(PATH_TEST):\n",
    "            !mkdir {PATH_TEST}\n",
    "        !move {os.path.join(path,image)} {os.path.join(PATH_TEST,image)}\n",
    "        !move {os.path.join(path,xml)} {os.path.join(PATH_TEST,xml)}"
   ]
  },
  {
   "cell_type": "markdown",
   "metadata": {},
   "source": [
    "## (Дополнительный модуль). Получить Изображения можно с web-камеры при необходимости. "
   ]
  },
  {
   "cell_type": "code",
   "execution_count": null,
   "metadata": {},
   "outputs": [],
   "source": [
    "for label in labels:\n",
    "    cap = cv2.VideoCapture(0)\n",
    "    print('Collecting images for {}'.format(label))\n",
    "    time.sleep(5)\n",
    "    for imgnum in range(number_imgs):\n",
    "        print('Collecting image {}'.format(imgnum))\n",
    "        ret, frame = cap.read()\n",
    "        imgname = os.path.join(IMAGES_PATH,label,label+'.'+'{}.jpg'.format(str(uuid.uuid1())))\n",
    "        cv2.imwrite(imgname, frame)\n",
    "        cv2.imshow('frame', frame)\n",
    "        time.sleep(2)\n",
    "\n",
    "        if cv2.waitKey(1) & 0xFF == ord('q'):\n",
    "            break\n",
    "cap.release()\n",
    "cv2.destroyAllWindows()"
   ]
  }
 ],
 "metadata": {
  "kernelspec": {
   "display_name": "Python 3 (ipykernel)",
   "language": "python",
   "name": "python3"
  },
  "language_info": {
   "codemirror_mode": {
    "name": "ipython",
    "version": 3
   },
   "file_extension": ".py",
   "mimetype": "text/x-python",
   "name": "python",
   "nbconvert_exporter": "python",
   "pygments_lexer": "ipython3",
   "version": "3.7.0"
  }
 },
 "nbformat": 4,
 "nbformat_minor": 4
}
